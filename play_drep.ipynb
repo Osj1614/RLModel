{
 "cells": [
  {
   "cell_type": "code",
   "execution_count": 11,
   "metadata": {},
   "outputs": [
    {
     "name": "stdout",
     "output_type": "stream",
     "text": [
      "The autoreload extension is already loaded. To reload it, use:\n",
      "  %reload_ext autoreload\n"
     ]
    }
   ],
   "source": [
    "%load_ext autoreload\n",
    "%autoreload\n",
    "import gym\n",
    "from rl.algo.drep import DREP_SAC\n",
    "import os\n",
    "import torch as th\n",
    "import time\n",
    "import numpy as np\n",
    "from gym.spaces import Box\n",
    "from rl.module.drep_networks import DREPNet\n",
    "from rl.module.general import MLPExtractor\n",
    "from rl.vecenv import vecenv\n",
    "from gym.wrappers.record_video import RecordVideo\n",
    "from pyvirtualdisplay import Display\n",
    "\n",
    "import torch.utils.tensorboard\n",
    "\n",
    "#, critic_coef=1, ent_coef=0.01, pred_coef=0.0, gamma=0.99, epsilon=0.2, lamda=0.95, policy_epochs=4\n",
    "\n",
    "#virtual_display = Display(visible=0, size=(1400, 900))\n",
    "#virtual_display.start()\n",
    "\n",
    "\n",
    "alg_args = {\n",
    "    'name' : 'nomix',\n",
    "    'nenvs' : 1,\n",
    "    'n_steps' : 256,\n",
    "    'gradient_steps' : 256,\n",
    "    'gamma' : 0.98,\n",
    "    'capacity' : 1000,\n",
    "    'train_steps' : 1e6,\n",
    "    'batch_size' : 128,\n",
    "    'train_start' : 10000,\n",
    "    'lr' : 3e-4,\n",
    "    'target_polyak' : 0.005,\n",
    "\n",
    "}\n",
    "\n",
    "\n",
    "def train(model, env, log_interval=0.01, save_interval=0.1):\n",
    "    prevtime = time.time()\n",
    "    saves = 1\n",
    "    \n",
    "    next_log = log_interval\n",
    "    next_save = save_interval\n",
    "    while next_log <= model.progress:\n",
    "        next_log += log_interval\n",
    "    while next_save <= model.progress:\n",
    "        next_save += save_interval\n",
    "\n",
    "\n",
    "    while os.path.isdir(f'logs/{model.name}/valid/{saves}'):\n",
    "        saves += 1\n",
    "\n",
    "    while model.progress < 1:\n",
    "        print(model.progress)\n",
    "        model.train_epoch(env)\n",
    "        if model.progress >= next_log:\n",
    "            next_log += log_interval\n",
    "            avg = np.mean(env.recent_scores)\n",
    "            print(f\"Average score:\\t{round(avg,3)}\")\n",
    "            print(f\"progress:\\t{round(model.progress * 100, 2)}%\")\n",
    "            currtime = time.time()\n",
    "            time_passed = currtime - prevtime\n",
    "            print(f\"elapsed time:\\t{round(time_passed, 3)} second\")\n",
    "            print(f\"time left:\\t{round(time_passed*(1-model.progress)/log_interval/3600, 3)} hour\")\n",
    "            prevtime = currtime\n",
    "            model.write_log('Average_score', avg)\n",
    "            print('-----------------------------------------------------------')\n"
   ]
  },
  {
   "cell_type": "code",
   "execution_count": 12,
   "metadata": {},
   "outputs": [
    {
     "name": "stderr",
     "output_type": "stream",
     "text": [
      "/home/depthfirst/RLModel/rl/vecenv.py:21: VisibleDeprecationWarning: Creating an ndarray from ragged nested sequences (which is a list-or-tuple of lists-or-tuples-or ndarrays with different lengths or shapes) is deprecated. If you meant to do this, you must specify 'dtype=object' when creating the ndarray.\n",
      "  return np.array(self.states)\n"
     ]
    }
   ],
   "source": [
    "\n",
    "device = th.device('cuda' if th.cuda.is_available() else 'cpu')\n",
    "istrain = True\n",
    "\n",
    "env_name = 'LunarLanderContinuous-v2'\n",
    "\n",
    "env = gym.make(env_name)\n",
    "envs = vecenv(alg_args['nenvs'], env_name, {})\n",
    "\n",
    "extractor = MLPExtractor(env.observation_space.shape[0], 64, 256)\n",
    "network = DREPNet(extractor, env.action_space.shape[0], 256)\n",
    "\n",
    "model = DREP_SAC(device, network, **alg_args)"
   ]
  },
  {
   "cell_type": "code",
   "execution_count": 77,
   "metadata": {},
   "outputs": [],
   "source": [
    "train(model, envs, save_interval=0.1)\n",
    "model.save_model(f'saves/{model.name}/last.pth')"
   ]
  },
  {
   "cell_type": "code",
   "execution_count": 13,
   "metadata": {},
   "outputs": [
    {
     "name": "stdout",
     "output_type": "stream",
     "text": [
      "Model loaded\n"
     ]
    },
    {
     "name": "stderr",
     "output_type": "stream",
     "text": [
      "/home/depthfirst/.conda/envs/metaworld/lib/python3.9/site-packages/gym/wrappers/record_video.py:75: UserWarning: \u001b[33mWARN: Overwriting existing videos at /home/depthfirst/RLModel/logs/nomix/video folder (try specifying a different `video_folder` for the `RecordVideo` wrapper if this is not desired)\u001b[0m\n",
      "  logger.warn(\n"
     ]
    },
    {
     "name": "stdout",
     "output_type": "stream",
     "text": [
      "Moviepy - Building video /home/depthfirst/RLModel/logs/nomix/video/rl-video-episode-0.mp4.\n",
      "Moviepy - Writing video /home/depthfirst/RLModel/logs/nomix/video/rl-video-episode-0.mp4\n",
      "\n"
     ]
    },
    {
     "name": "stderr",
     "output_type": "stream",
     "text": [
      "                                                             \r"
     ]
    },
    {
     "name": "stdout",
     "output_type": "stream",
     "text": [
      "Moviepy - Done !\n",
      "Moviepy - video ready /home/depthfirst/RLModel/logs/nomix/video/rl-video-episode-0.mp4\n"
     ]
    }
   ],
   "source": [
    "model.load_model(f'saves/{model.name}/last.pth')\n",
    "os.makedirs(f'./logs/{model.name}/video', exist_ok=True)\n",
    "\n",
    "env = gym.make(env_name, render_mode=\"rgb_array\")\n",
    "env = RecordVideo(env, f'./logs/{model.name}/video')\n",
    "state, _ = env.reset()\n",
    "done = False\n",
    "goal = th.zeros(size=(1, 64), device=device)\n",
    "while not done:\n",
    "    tstate = th.as_tensor(state[None], dtype=th.float32).to(device)\n",
    "    action = model.model.get_action(tstate, goal)\n",
    "    state, reward, done, _, info = env.step(action[0])\n",
    "\n",
    "env.close()"
   ]
  },
  {
   "cell_type": "code",
   "execution_count": 4,
   "metadata": {},
   "outputs": [
    {
     "name": "stdout",
     "output_type": "stream",
     "text": [
      "(array([-1.2124062e-03,  1.4221095e+00, -1.2282413e-01,  4.9730101e-01,\n",
      "        1.4117146e-03,  2.7821491e-02,  0.0000000e+00,  0.0000000e+00],\n",
      "      dtype=float32), {})\n"
     ]
    }
   ],
   "source": [
    "print(state)"
   ]
  }
 ],
 "metadata": {
  "kernelspec": {
   "display_name": "metaworld",
   "language": "python",
   "name": "python3"
  },
  "language_info": {
   "codemirror_mode": {
    "name": "ipython",
    "version": 3
   },
   "file_extension": ".py",
   "mimetype": "text/x-python",
   "name": "python",
   "nbconvert_exporter": "python",
   "pygments_lexer": "ipython3",
   "version": "3.9.15"
  },
  "orig_nbformat": 4,
  "vscode": {
   "interpreter": {
    "hash": "e2fcef96d28c29513d0165f7118751c29f0095b745d638a7472b0f32561b0525"
   }
  }
 },
 "nbformat": 4,
 "nbformat_minor": 2
}
