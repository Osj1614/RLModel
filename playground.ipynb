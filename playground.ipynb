{
 "cells": [
  {
   "cell_type": "code",
   "execution_count": 2,
   "metadata": {},
   "outputs": [
    {
     "name": "stdout",
     "output_type": "stream",
     "text": [
      "torch.Size([1, 8, 2, 1])\n"
     ]
    }
   ],
   "source": [
    "import numpy as np\n",
    "import torch\n",
    "\n",
    "\n",
    "    # x :   b, h, in, 1\n",
    "    # weight : h, out, in\n",
    "x = torch.ones((1, 8, 4, 1))\n",
    "w = torch.ones((8, 2, 4))\n",
    "\n",
    "print(torch.matmul(w, x))\n"
   ]
  }
 ],
 "metadata": {
  "kernelspec": {
   "display_name": "metaworld",
   "language": "python",
   "name": "python3"
  },
  "language_info": {
   "codemirror_mode": {
    "name": "ipython",
    "version": 3
   },
   "file_extension": ".py",
   "mimetype": "text/x-python",
   "name": "python",
   "nbconvert_exporter": "python",
   "pygments_lexer": "ipython3",
   "version": "3.9.15"
  },
  "orig_nbformat": 4,
  "vscode": {
   "interpreter": {
    "hash": "e2fcef96d28c29513d0165f7118751c29f0095b745d638a7472b0f32561b0525"
   }
  }
 },
 "nbformat": 4,
 "nbformat_minor": 2
}
